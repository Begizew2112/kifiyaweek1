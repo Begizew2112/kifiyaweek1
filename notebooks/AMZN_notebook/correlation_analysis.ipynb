{
 "cells": [
  {
   "cell_type": "code",
   "execution_count": 1,
   "metadata": {},
   "outputs": [],
   "source": [
    "import pandas as pd\n",
    "\n",
    "# Load the data\n",
    "df = pd.read_csv(r'C:\\Users\\Yibabe\\Desktop\\kifiyaweek1\\data\\merged\\AMZN_news_with_sentiment.csv')\n"
   ]
  },
  {
   "cell_type": "code",
   "execution_count": 2,
   "metadata": {},
   "outputs": [
    {
     "data": {
      "text/plain": [
       "(1324417, 17)"
      ]
     },
     "execution_count": 2,
     "metadata": {},
     "output_type": "execute_result"
    }
   ],
   "source": [
    "df.shape"
   ]
  },
  {
   "cell_type": "code",
   "execution_count": 3,
   "metadata": {},
   "outputs": [
    {
     "data": {
      "text/plain": [
       "Date            0\n",
       "Open            0\n",
       "High            0\n",
       "Low             0\n",
       "Close           0\n",
       "Adj Close       0\n",
       "Volume          0\n",
       "Dividends       0\n",
       "Stock Splits    0\n",
       "headline        0\n",
       "url             0\n",
       "publisher       0\n",
       "stock           0\n",
       "day_of_week     0\n",
       "polarity        0\n",
       "subjectivity    0\n",
       "sentiment       0\n",
       "dtype: int64"
      ]
     },
     "execution_count": 3,
     "metadata": {},
     "output_type": "execute_result"
    }
   ],
   "source": [
    "df.isnull().sum()"
   ]
  },
  {
   "cell_type": "code",
   "execution_count": 6,
   "metadata": {},
   "outputs": [
    {
     "data": {
      "text/html": [
       "<div>\n",
       "<style scoped>\n",
       "    .dataframe tbody tr th:only-of-type {\n",
       "        vertical-align: middle;\n",
       "    }\n",
       "\n",
       "    .dataframe tbody tr th {\n",
       "        vertical-align: top;\n",
       "    }\n",
       "\n",
       "    .dataframe thead th {\n",
       "        text-align: right;\n",
       "    }\n",
       "</style>\n",
       "<table border=\"1\" class=\"dataframe\">\n",
       "  <thead>\n",
       "    <tr style=\"text-align: right;\">\n",
       "      <th></th>\n",
       "      <th>Date</th>\n",
       "      <th>headline</th>\n",
       "      <th>polarity</th>\n",
       "      <th>Sentiment_Intensity</th>\n",
       "    </tr>\n",
       "  </thead>\n",
       "  <tbody>\n",
       "    <tr>\n",
       "      <th>0</th>\n",
       "      <td>2009-04-27 00:00:00+00:00</td>\n",
       "      <td>Update on the Luxury Sector: 2nd Quarter 2009</td>\n",
       "      <td>0.000000</td>\n",
       "      <td>0.000000</td>\n",
       "    </tr>\n",
       "    <tr>\n",
       "      <th>1</th>\n",
       "      <td>2009-04-27 00:00:00+00:00</td>\n",
       "      <td>Update on the Luxury Sector: 2nd Quarter 2009</td>\n",
       "      <td>0.000000</td>\n",
       "      <td>0.000000</td>\n",
       "    </tr>\n",
       "    <tr>\n",
       "      <th>2</th>\n",
       "      <td>2009-04-29 00:00:00+00:00</td>\n",
       "      <td>Going Against the Herd</td>\n",
       "      <td>0.000000</td>\n",
       "      <td>0.000000</td>\n",
       "    </tr>\n",
       "    <tr>\n",
       "      <th>3</th>\n",
       "      <td>2009-05-22 00:00:00+00:00</td>\n",
       "      <td>Charles Sizemore Radio Interview Saturday Morning</td>\n",
       "      <td>0.000000</td>\n",
       "      <td>0.000000</td>\n",
       "    </tr>\n",
       "    <tr>\n",
       "      <th>4</th>\n",
       "      <td>2009-05-27 00:00:00+00:00</td>\n",
       "      <td>MRM a $15-$20+ stock - FIT new information - J...</td>\n",
       "      <td>0.268182</td>\n",
       "      <td>0.268182</td>\n",
       "    </tr>\n",
       "    <tr>\n",
       "      <th>5</th>\n",
       "      <td>2009-05-27 00:00:00+00:00</td>\n",
       "      <td>JVA perks to 39% gain, SMCG ready, MRM to cont...</td>\n",
       "      <td>0.200000</td>\n",
       "      <td>0.200000</td>\n",
       "    </tr>\n",
       "    <tr>\n",
       "      <th>6</th>\n",
       "      <td>2009-05-27 00:00:00+00:00</td>\n",
       "      <td>JVA perks to 39% gain, SMCG ready, MRM to cont...</td>\n",
       "      <td>0.200000</td>\n",
       "      <td>0.200000</td>\n",
       "    </tr>\n",
       "    <tr>\n",
       "      <th>7</th>\n",
       "      <td>2009-05-27 00:00:00+00:00</td>\n",
       "      <td>MRM a $15-$20+ stock - FIT new information - J...</td>\n",
       "      <td>0.268182</td>\n",
       "      <td>0.268182</td>\n",
       "    </tr>\n",
       "    <tr>\n",
       "      <th>8</th>\n",
       "      <td>2009-05-27 00:00:00+00:00</td>\n",
       "      <td>JVA perks to 39% gain, SMCG ready, MRM to cont...</td>\n",
       "      <td>0.200000</td>\n",
       "      <td>0.200000</td>\n",
       "    </tr>\n",
       "    <tr>\n",
       "      <th>9</th>\n",
       "      <td>2009-05-27 00:00:00+00:00</td>\n",
       "      <td>MRM a $15-$20+ stock - FIT new information - J...</td>\n",
       "      <td>0.268182</td>\n",
       "      <td>0.268182</td>\n",
       "    </tr>\n",
       "  </tbody>\n",
       "</table>\n",
       "</div>"
      ],
      "text/plain": [
       "                        Date  \\\n",
       "0  2009-04-27 00:00:00+00:00   \n",
       "1  2009-04-27 00:00:00+00:00   \n",
       "2  2009-04-29 00:00:00+00:00   \n",
       "3  2009-05-22 00:00:00+00:00   \n",
       "4  2009-05-27 00:00:00+00:00   \n",
       "5  2009-05-27 00:00:00+00:00   \n",
       "6  2009-05-27 00:00:00+00:00   \n",
       "7  2009-05-27 00:00:00+00:00   \n",
       "8  2009-05-27 00:00:00+00:00   \n",
       "9  2009-05-27 00:00:00+00:00   \n",
       "\n",
       "                                            headline  polarity  \\\n",
       "0      Update on the Luxury Sector: 2nd Quarter 2009  0.000000   \n",
       "1      Update on the Luxury Sector: 2nd Quarter 2009  0.000000   \n",
       "2                             Going Against the Herd  0.000000   \n",
       "3  Charles Sizemore Radio Interview Saturday Morning  0.000000   \n",
       "4  MRM a $15-$20+ stock - FIT new information - J...  0.268182   \n",
       "5  JVA perks to 39% gain, SMCG ready, MRM to cont...  0.200000   \n",
       "6  JVA perks to 39% gain, SMCG ready, MRM to cont...  0.200000   \n",
       "7  MRM a $15-$20+ stock - FIT new information - J...  0.268182   \n",
       "8  JVA perks to 39% gain, SMCG ready, MRM to cont...  0.200000   \n",
       "9  MRM a $15-$20+ stock - FIT new information - J...  0.268182   \n",
       "\n",
       "   Sentiment_Intensity  \n",
       "0             0.000000  \n",
       "1             0.000000  \n",
       "2             0.000000  \n",
       "3             0.000000  \n",
       "4             0.268182  \n",
       "5             0.200000  \n",
       "6             0.200000  \n",
       "7             0.268182  \n",
       "8             0.200000  \n",
       "9             0.268182  "
      ]
     },
     "execution_count": 6,
     "metadata": {},
     "output_type": "execute_result"
    }
   ],
   "source": [
    "# Calculate sentiment intensity based on the 'polarity' column\n",
    "df['Sentiment_Intensity'] = df['polarity']\n",
    "\n",
    "# Check the updated DataFrame\n",
    "df[['Date', 'headline', 'polarity', 'Sentiment_Intensity']].head(10)\n"
   ]
  },
  {
   "cell_type": "code",
   "execution_count": 7,
   "metadata": {},
   "outputs": [],
   "source": [
    "# Ensure the 'Date' column is in datetime format\n",
    "df['Date'] = pd.to_datetime(df['Date'])\n",
    "\n",
    "# Sort the DataFrame by date\n",
    "df = df.sort_values(by='Date')\n",
    "\n",
    "# Calculate the daily stock returns as the percentage change in 'Close' prices\n",
    "df['Daily_Stock_Return'] = df['Close'].pct_change() * 100\n",
    "\n",
    "\n"
   ]
  },
  {
   "cell_type": "code",
   "execution_count": 8,
   "metadata": {},
   "outputs": [
    {
     "data": {
      "text/html": [
       "<div>\n",
       "<style scoped>\n",
       "    .dataframe tbody tr th:only-of-type {\n",
       "        vertical-align: middle;\n",
       "    }\n",
       "\n",
       "    .dataframe tbody tr th {\n",
       "        vertical-align: top;\n",
       "    }\n",
       "\n",
       "    .dataframe thead th {\n",
       "        text-align: right;\n",
       "    }\n",
       "</style>\n",
       "<table border=\"1\" class=\"dataframe\">\n",
       "  <thead>\n",
       "    <tr style=\"text-align: right;\">\n",
       "      <th></th>\n",
       "      <th>Date</th>\n",
       "      <th>Close</th>\n",
       "      <th>Daily_Stock_Return</th>\n",
       "    </tr>\n",
       "  </thead>\n",
       "  <tbody>\n",
       "    <tr>\n",
       "      <th>0</th>\n",
       "      <td>2009-04-27 00:00:00+00:00</td>\n",
       "      <td>4.1560</td>\n",
       "      <td>NaN</td>\n",
       "    </tr>\n",
       "    <tr>\n",
       "      <th>1</th>\n",
       "      <td>2009-04-27 00:00:00+00:00</td>\n",
       "      <td>4.1560</td>\n",
       "      <td>0.000000</td>\n",
       "    </tr>\n",
       "    <tr>\n",
       "      <th>2</th>\n",
       "      <td>2009-04-29 00:00:00+00:00</td>\n",
       "      <td>3.9895</td>\n",
       "      <td>-4.006258</td>\n",
       "    </tr>\n",
       "    <tr>\n",
       "      <th>3</th>\n",
       "      <td>2009-05-22 00:00:00+00:00</td>\n",
       "      <td>3.7820</td>\n",
       "      <td>-5.201152</td>\n",
       "    </tr>\n",
       "    <tr>\n",
       "      <th>4</th>\n",
       "      <td>2009-05-27 00:00:00+00:00</td>\n",
       "      <td>3.8550</td>\n",
       "      <td>1.930194</td>\n",
       "    </tr>\n",
       "  </tbody>\n",
       "</table>\n",
       "</div>"
      ],
      "text/plain": [
       "                       Date   Close  Daily_Stock_Return\n",
       "0 2009-04-27 00:00:00+00:00  4.1560                 NaN\n",
       "1 2009-04-27 00:00:00+00:00  4.1560            0.000000\n",
       "2 2009-04-29 00:00:00+00:00  3.9895           -4.006258\n",
       "3 2009-05-22 00:00:00+00:00  3.7820           -5.201152\n",
       "4 2009-05-27 00:00:00+00:00  3.8550            1.930194"
      ]
     },
     "execution_count": 8,
     "metadata": {},
     "output_type": "execute_result"
    }
   ],
   "source": [
    "# Check the updated DataFrame\n",
    "df[['Date', 'Close', 'Daily_Stock_Return']].head()"
   ]
  },
  {
   "cell_type": "code",
   "execution_count": 10,
   "metadata": {},
   "outputs": [
    {
     "data": {
      "text/html": [
       "<div>\n",
       "<style scoped>\n",
       "    .dataframe tbody tr th:only-of-type {\n",
       "        vertical-align: middle;\n",
       "    }\n",
       "\n",
       "    .dataframe tbody tr th {\n",
       "        vertical-align: top;\n",
       "    }\n",
       "\n",
       "    .dataframe thead th {\n",
       "        text-align: right;\n",
       "    }\n",
       "</style>\n",
       "<table border=\"1\" class=\"dataframe\">\n",
       "  <thead>\n",
       "    <tr style=\"text-align: right;\">\n",
       "      <th></th>\n",
       "      <th>Date</th>\n",
       "      <th>Daily_Stock_Return</th>\n",
       "      <th>Sentiment_Intensity</th>\n",
       "    </tr>\n",
       "  </thead>\n",
       "  <tbody>\n",
       "    <tr>\n",
       "      <th>0</th>\n",
       "      <td>2009-04-27 00:00:00+00:00</td>\n",
       "      <td>NaN</td>\n",
       "      <td>0.000000</td>\n",
       "    </tr>\n",
       "    <tr>\n",
       "      <th>1</th>\n",
       "      <td>2009-04-27 00:00:00+00:00</td>\n",
       "      <td>0.000000</td>\n",
       "      <td>0.000000</td>\n",
       "    </tr>\n",
       "    <tr>\n",
       "      <th>2</th>\n",
       "      <td>2009-04-29 00:00:00+00:00</td>\n",
       "      <td>-4.006258</td>\n",
       "      <td>0.000000</td>\n",
       "    </tr>\n",
       "    <tr>\n",
       "      <th>3</th>\n",
       "      <td>2009-05-22 00:00:00+00:00</td>\n",
       "      <td>-5.201152</td>\n",
       "      <td>0.000000</td>\n",
       "    </tr>\n",
       "    <tr>\n",
       "      <th>4</th>\n",
       "      <td>2009-05-27 00:00:00+00:00</td>\n",
       "      <td>1.930194</td>\n",
       "      <td>0.234091</td>\n",
       "    </tr>\n",
       "  </tbody>\n",
       "</table>\n",
       "</div>"
      ],
      "text/plain": [
       "                       Date  Daily_Stock_Return  Sentiment_Intensity\n",
       "0 2009-04-27 00:00:00+00:00                 NaN             0.000000\n",
       "1 2009-04-27 00:00:00+00:00            0.000000             0.000000\n",
       "2 2009-04-29 00:00:00+00:00           -4.006258             0.000000\n",
       "3 2009-05-22 00:00:00+00:00           -5.201152             0.000000\n",
       "4 2009-05-27 00:00:00+00:00            1.930194             0.234091"
      ]
     },
     "execution_count": 10,
     "metadata": {},
     "output_type": "execute_result"
    }
   ],
   "source": [
    "# Group by 'Date' and calculate the average sentiment intensity for each day\n",
    "daily_sentiment = df.groupby('Date')['Sentiment_Intensity'].mean().reset_index()\n",
    "\n",
    "# Merge with the daily stock return data\n",
    "daily_data = df[['Date', 'Daily_Stock_Return']].drop_duplicates()\n",
    "daily_data = daily_data.merge(daily_sentiment, on='Date')\n",
    "# Check the merged DataFrame\n",
    "daily_data.head()"
   ]
  },
  {
   "cell_type": "code",
   "execution_count": 11,
   "metadata": {},
   "outputs": [],
   "source": [
    "# Compute the correlation coefficient between sentiment intensity and stock returns\n",
    "correlation = daily_data['Sentiment_Intensity'].corr(daily_data['Daily_Stock_Return'])"
   ]
  },
  {
   "cell_type": "code",
   "execution_count": 12,
   "metadata": {},
   "outputs": [
    {
     "name": "stdout",
     "output_type": "stream",
     "text": [
      "Correlation between sentiment intensity and stock returns: 0.01701481282206015\n"
     ]
    }
   ],
   "source": [
    "print(f'Correlation between sentiment intensity and stock returns: {correlation}')"
   ]
  }
 ],
 "metadata": {
  "kernelspec": {
   "display_name": "base",
   "language": "python",
   "name": "python3"
  },
  "language_info": {
   "codemirror_mode": {
    "name": "ipython",
    "version": 3
   },
   "file_extension": ".py",
   "mimetype": "text/x-python",
   "name": "python",
   "nbconvert_exporter": "python",
   "pygments_lexer": "ipython3",
   "version": "3.9.13"
  }
 },
 "nbformat": 4,
 "nbformat_minor": 2
}
